{
  "nbformat": 4,
  "nbformat_minor": 0,
  "metadata": {
    "colab": {
      "name": "diabetes.ipynb",
      "version": "0.3.2",
      "provenance": [],
      "collapsed_sections": [],
      "include_colab_link": true
    },
    "kernelspec": {
      "display_name": "Python 3",
      "language": "python",
      "name": "python3"
    }
  },
  "cells": [
    {
      "cell_type": "markdown",
      "metadata": {
        "id": "view-in-github",
        "colab_type": "text"
      },
      "source": [
        "<a href=\"https://colab.research.google.com/github/joaovitordeon/ML_diabetes/blob/master/diabetes.ipynb\" target=\"_parent\"><img src=\"https://colab.research.google.com/assets/colab-badge.svg\" alt=\"Open In Colab\"/></a>"
      ]
    },
    {
      "metadata": {
        "id": "y-oWVqU3puf8",
        "colab_type": "code",
        "colab": {}
      },
      "cell_type": "code",
      "source": [
        "import pandas as pd\n",
        "import seaborn as sns\n",
        "import matplotlib.pyplot as plt\n",
        "import numpy as np\n",
        "\n",
        "from sklearn.linear_model import LogisticRegression\n",
        "from sklearn.ensemble import RandomForestClassifier\n",
        "from sklearn.naive_bayes import GaussianNB\n",
        "\n",
        "from sklearn.metrics import accuracy_score,precision_score,recall_score,f1_score\n",
        "from sklearn.model_selection import StratifiedShuffleSplit\n",
        "from sklearn.model_selection import KFold\n",
        "from sklearn.preprocessing import StandardScaler\n",
        "from sklearn.decomposition import PCA"
      ],
      "execution_count": 0,
      "outputs": []
    },
    {
      "metadata": {
        "id": "PaxM1jezpugT",
        "colab_type": "code",
        "colab": {}
      },
      "cell_type": "code",
      "source": [
        "df = pd.read_excel('diabetes_Ex1.xlsx')"
      ],
      "execution_count": 0,
      "outputs": []
    },
    {
      "metadata": {
        "id": "LD5zfV3RpugX",
        "colab_type": "code",
        "colab": {},
        "outputId": "33ade75f-5068-4748-ff97-0b87b33da8b6"
      },
      "cell_type": "code",
      "source": [
        "df.info()"
      ],
      "execution_count": 0,
      "outputs": [
        {
          "output_type": "stream",
          "text": [
            "<class 'pandas.core.frame.DataFrame'>\n",
            "RangeIndex: 776 entries, 0 to 775\n",
            "Data columns (total 18 columns):\n",
            "A              768 non-null float64\n",
            "B              768 non-null float64\n",
            "C              774 non-null object\n",
            "D              768 non-null float64\n",
            "E              768 non-null float64\n",
            "F              768 non-null float64\n",
            "G              768 non-null float64\n",
            "H              768 non-null float64\n",
            "I              768 non-null float64\n",
            "J              768 non-null float64\n",
            "K              768 non-null float64\n",
            "L              768 non-null float64\n",
            "M              768 non-null float64\n",
            "N              768 non-null float64\n",
            "O              768 non-null float64\n",
            "P              768 non-null float64\n",
            "Unnamed: 16    0 non-null float64\n",
            "Diagnóstico    768 non-null float64\n",
            "dtypes: float64(17), object(1)\n",
            "memory usage: 109.2+ KB\n"
          ],
          "name": "stdout"
        }
      ]
    },
    {
      "metadata": {
        "id": "BjAuXMa1pugh",
        "colab_type": "text"
      },
      "cell_type": "markdown",
      "source": [
        "**Coluna 'Unnamed: 16' com todos os dados nulos**"
      ]
    },
    {
      "metadata": {
        "id": "z8oNXhyrpugh",
        "colab_type": "code",
        "colab": {}
      },
      "cell_type": "code",
      "source": [
        "df.drop(columns='Unnamed: 16', inplace=True)\n",
        "df.dropna(inplace=True, axis='index')"
      ],
      "execution_count": 0,
      "outputs": []
    },
    {
      "metadata": {
        "id": "o6ZS5cQCpugm",
        "colab_type": "code",
        "colab": {},
        "outputId": "1496b6c5-fef7-4c39-a8d5-d2a972cb4a60"
      },
      "cell_type": "code",
      "source": [
        "g = sns.heatmap(df.corr())"
      ],
      "execution_count": 0,
      "outputs": [
        {
          "output_type": "display_data",
          "data": {
            "image/png": "[encoded data removed]",
            "text/plain": [
              "<Figure size 432x288 with 2 Axes>"
            ]
          },
          "metadata": {
            "tags": []
          }
        }
      ]
    },
    {
      "metadata": {
        "id": "7T9vVOZjpugs",
        "colab_type": "text"
      },
      "cell_type": "markdown",
      "source": [
        "**Features K,L,H,I com alta correlação com outras colunas**"
      ]
    },
    {
      "metadata": {
        "id": "qx1JN7BOpugu",
        "colab_type": "code",
        "colab": {},
        "outputId": "1fe79a36-0caf-4a9b-9ef4-b32e3cf2aab2"
      },
      "cell_type": "code",
      "source": [
        "df.info()"
      ],
      "execution_count": 0,
      "outputs": [
        {
          "output_type": "stream",
          "text": [
            "<class 'pandas.core.frame.DataFrame'>\n",
            "Int64Index: 768 entries, 0 to 767\n",
            "Data columns (total 17 columns):\n",
            "A              768 non-null float64\n",
            "B              768 non-null float64\n",
            "C              768 non-null object\n",
            "D              768 non-null float64\n",
            "E              768 non-null float64\n",
            "F              768 non-null float64\n",
            "G              768 non-null float64\n",
            "H              768 non-null float64\n",
            "I              768 non-null float64\n",
            "J              768 non-null float64\n",
            "K              768 non-null float64\n",
            "L              768 non-null float64\n",
            "M              768 non-null float64\n",
            "N              768 non-null float64\n",
            "O              768 non-null float64\n",
            "P              768 non-null float64\n",
            "Diagnóstico    768 non-null float64\n",
            "dtypes: float64(16), object(1)\n",
            "memory usage: 108.0+ KB\n"
          ],
          "name": "stdout"
        }
      ]
    },
    {
      "metadata": {
        "id": "OVfip07npugz",
        "colab_type": "text"
      },
      "cell_type": "markdown",
      "source": [
        "**Coluna C do tipo object**"
      ]
    },
    {
      "metadata": {
        "id": "GJb3i7uvpug0",
        "colab_type": "code",
        "colab": {}
      },
      "cell_type": "code",
      "source": [
        "df=df.astype(float)"
      ],
      "execution_count": 0,
      "outputs": []
    },
    {
      "metadata": {
        "scrolled": true,
        "id": "kmn26IF4pug5",
        "colab_type": "code",
        "colab": {},
        "outputId": "5956bb1e-67ad-4beb-8bb0-45e6ccc64f1a"
      },
      "cell_type": "code",
      "source": [
        "df.info()"
      ],
      "execution_count": 0,
      "outputs": [
        {
          "output_type": "stream",
          "text": [
            "<class 'pandas.core.frame.DataFrame'>\n",
            "Int64Index: 768 entries, 0 to 767\n",
            "Data columns (total 17 columns):\n",
            "A              768 non-null float64\n",
            "B              768 non-null float64\n",
            "C              768 non-null float64\n",
            "D              768 non-null float64\n",
            "E              768 non-null float64\n",
            "F              768 non-null float64\n",
            "G              768 non-null float64\n",
            "H              768 non-null float64\n",
            "I              768 non-null float64\n",
            "J              768 non-null float64\n",
            "K              768 non-null float64\n",
            "L              768 non-null float64\n",
            "M              768 non-null float64\n",
            "N              768 non-null float64\n",
            "O              768 non-null float64\n",
            "P              768 non-null float64\n",
            "Diagnóstico    768 non-null float64\n",
            "dtypes: float64(17)\n",
            "memory usage: 108.0 KB\n"
          ],
          "name": "stdout"
        }
      ]
    },
    {
      "metadata": {
        "id": "7z3bMq7vpug_",
        "colab_type": "code",
        "colab": {}
      },
      "cell_type": "code",
      "source": [
        "import warnings\n",
        "warnings.filterwarnings(\"ignore\")\n",
        "\n",
        "def split_data(clf,features,labels, folds = 150): \n",
        "    \n",
        "    accuracy_scores = []\n",
        "    precision_scores = []\n",
        "    recall_scores = []\n",
        "    f1_scores = []\n",
        "\n",
        "    sss = StratifiedShuffleSplit(n_splits=folds,random_state=42, test_size=0.3)\n",
        "    \n",
        "    print(\"Making predictions... \\n\")\n",
        "    for train_idx, test_idx in sss.split(features, labels):\n",
        "        X_train = []\n",
        "        X_test  = []\n",
        "        y_train = []\n",
        "        y_test  = []\n",
        "\n",
        "        for ii in train_idx:\n",
        "            X_train.append( features.loc[ii] )\n",
        "            y_train.append( labels.loc[ii] )\n",
        "        for jj in test_idx:\n",
        "            X_test.append( features.loc[jj] )\n",
        "            y_test.append( labels.loc[jj] )\n",
        "        \n",
        "        try:\n",
        "            clf.fit(X_train, y_train)\n",
        "            y_pred = clf.predict(X_test)\n",
        "\n",
        "            accuracy_scores.append(accuracy_score(y_test, y_pred))\n",
        "            precision_scores.append(precision_score(y_test, y_pred))\n",
        "            recall_scores.append(recall_score(y_test, y_pred))\n",
        "            f1_scores.append(f1_score(y_test, y_pred))\n",
        "        except e:\n",
        "            print(e)\n",
        "            \n",
        "    print('Accuracy', np.round( np.mean(accuracy_scores) ,3) )\n",
        "    print('Precision', np.round( np.mean(precision_scores) ,3) )\n",
        "    print('Recall', np.round( np.mean(recall_scores), 3) )\n",
        "    print('F1-measure', np.round( np.mean(f1_scores), 3) )\n",
        "    "
      ],
      "execution_count": 0,
      "outputs": []
    },
    {
      "metadata": {
        "id": "O3TmCqRDpuhE",
        "colab_type": "code",
        "colab": {}
      },
      "cell_type": "code",
      "source": [
        "reg =  LogisticRegression()"
      ],
      "execution_count": 0,
      "outputs": []
    },
    {
      "metadata": {
        "id": "2CF0b8N-puhK",
        "colab_type": "code",
        "colab": {}
      },
      "cell_type": "code",
      "source": [
        "rfc = RandomForestClassifier()"
      ],
      "execution_count": 0,
      "outputs": []
    },
    {
      "metadata": {
        "id": "HXQv1H-upuhQ",
        "colab_type": "code",
        "colab": {}
      },
      "cell_type": "code",
      "source": [
        "gnb = GaussianNB()"
      ],
      "execution_count": 0,
      "outputs": []
    },
    {
      "metadata": {
        "id": "jX7oJ_rWpuhX",
        "colab_type": "code",
        "colab": {},
        "outputId": "98903393-df00-4185-c571-91ac6e65a97c"
      },
      "cell_type": "code",
      "source": [
        "#LogisticRegression\n",
        "split_data(reg, df.drop(columns='Diagnóstico'), df['Diagnóstico'])"
      ],
      "execution_count": 0,
      "outputs": [
        {
          "output_type": "stream",
          "text": [
            "Making predictions... \n",
            "\n",
            "Accuracy 0.755\n",
            "Precision 0.786\n",
            "Recall 0.857\n",
            "F1-measure 0.82\n"
          ],
          "name": "stdout"
        }
      ]
    },
    {
      "metadata": {
        "id": "-JugRhtspuhf",
        "colab_type": "code",
        "colab": {},
        "outputId": "635f417b-b709-4975-b64e-82831f3b05c4"
      },
      "cell_type": "code",
      "source": [
        "#RandomForestClassifier\n",
        "split_data(rfc, df.drop(columns='Diagnóstico'), df['Diagnóstico'])"
      ],
      "execution_count": 0,
      "outputs": [
        {
          "output_type": "stream",
          "text": [
            "Making predictions... \n",
            "\n",
            "Accuracy 0.737\n",
            "Precision 0.763\n",
            "Recall 0.864\n",
            "F1-measure 0.81\n"
          ],
          "name": "stdout"
        }
      ]
    },
    {
      "metadata": {
        "id": "pck5Fjlspuho",
        "colab_type": "code",
        "colab": {},
        "outputId": "0011ba6c-ef70-4f6e-bf83-6ab25169ac77"
      },
      "cell_type": "code",
      "source": [
        "#GaussianNB\n",
        "split_data(gnb, df.drop(columns='Diagnóstico'), df['Diagnóstico'])"
      ],
      "execution_count": 0,
      "outputs": [
        {
          "output_type": "stream",
          "text": [
            "Making predictions... \n",
            "\n",
            "Accuracy 0.745\n",
            "Precision 0.8\n",
            "Recall 0.81\n",
            "F1-measure 0.804\n"
          ],
          "name": "stdout"
        }
      ]
    },
    {
      "metadata": {
        "id": "bcRiH_eKp37y",
        "colab_type": "text"
      },
      "cell_type": "markdown",
      "source": [
        "**precision: das vezes que ele preveu um diabetico, 80% eram diabeticos realmente e 20% não eram **"
      ]
    },
    {
      "metadata": {
        "id": "MjmZckvgqLII",
        "colab_type": "text"
      },
      "cell_type": "markdown",
      "source": [
        "**recall: dentre os diabeticos, ele preveu que 81% destes eram realmente diabeticos, o que inplica que 19% dos diabeticos nao foram diagnosticados com diabetes**"
      ]
    }
  ]
}